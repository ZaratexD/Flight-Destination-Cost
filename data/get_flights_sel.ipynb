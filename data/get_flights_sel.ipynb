{
 "cells": [
  {
   "cell_type": "code",
   "execution_count": 8,
   "metadata": {},
   "outputs": [],
   "source": [
    "from selenium import webdriver\n",
    "from selenium.webdriver.common.by import By\n",
    "from selenium.webdriver.firefox.service import Service\n",
    "from webdriver_manager.firefox import GeckoDriverManager\n",
    "import time"
   ]
  },
  {
   "cell_type": "code",
   "execution_count": 9,
   "metadata": {},
   "outputs": [
    {
     "ename": "TypeError",
     "evalue": "__init__() got an unexpected keyword argument 'service'",
     "output_type": "error",
     "traceback": [
      "\u001b[0;31m---------------------------------------------------------------------------\u001b[0m",
      "\u001b[0;31mTypeError\u001b[0m                                 Traceback (most recent call last)",
      "Cell \u001b[0;32mIn[9], line 9\u001b[0m\n\u001b[1;32m      6\u001b[0m service \u001b[38;5;241m=\u001b[39m Service(GeckoDriverManager()\u001b[38;5;241m.\u001b[39minstall())\n\u001b[1;32m      8\u001b[0m \u001b[38;5;66;03m# Initialize the WebDriver\u001b[39;00m\n\u001b[0;32m----> 9\u001b[0m driver \u001b[38;5;241m=\u001b[39m \u001b[43mwebdriver\u001b[49m\u001b[38;5;241;43m.\u001b[39;49m\u001b[43mFirefox\u001b[49m\u001b[43m(\u001b[49m\u001b[43mservice\u001b[49m\u001b[38;5;241;43m=\u001b[39;49m\u001b[43mservice\u001b[49m\u001b[43m,\u001b[49m\u001b[43m \u001b[49m\u001b[43moptions\u001b[49m\u001b[38;5;241;43m=\u001b[39;49m\u001b[43moptions\u001b[49m\u001b[43m)\u001b[49m\n\u001b[1;32m     11\u001b[0m \u001b[38;5;66;03m# URL of the flight schedule page\u001b[39;00m\n\u001b[1;32m     12\u001b[0m url \u001b[38;5;241m=\u001b[39m \u001b[38;5;124m'\u001b[39m\u001b[38;5;124mhttps://www.delta.com/flightstatus/schedule/SEA/FCO/2024-06-03\u001b[39m\u001b[38;5;124m'\u001b[39m\n",
      "\u001b[0;31mTypeError\u001b[0m: __init__() got an unexpected keyword argument 'service'"
     ]
    }
   ],
   "source": [
    "# Setup Selenium WebDriver using webdriver_manager\n",
    "options = webdriver.FirefoxOptions()\n",
    "options.add_argument('--headless')  # Run in headless mode for faster execution\n",
    "\n",
    "# Setup the GeckoDriver using Service\n",
    "service = Service(GeckoDriverManager().install())\n",
    "\n",
    "# Initialize the WebDriver\n",
    "driver = webdriver.Firefox(service=service, options=options)\n",
    "\n",
    "# URL of the flight schedule page\n",
    "url = 'https://www.delta.com/flightstatus/schedule/SEA/FCO/2024-06-03'\n",
    "driver.get(url)\n",
    "\n",
    "# Wait for the page to load completely\n",
    "time.sleep(10)  # Adjust the sleep time as necessary\n",
    "\n",
    "try:\n",
    "    # Locate the table element using the specified CSS selector\n",
    "    table = driver.find_element(By.CSS_SELECTOR, '#maincontent > dl-flightschedule > div > div > div > div.row.main-panel > div.col-xl-9.col-lg-9.col-md-12.col-12.right-panel-holder.ng-star-inserted > div > dl-flightroutes > table')\n",
    "    table_html = table.get_attribute('outerHTML')\n",
    "    \n",
    "    # Print the extracted table HTML\n",
    "    print(table_html)\n",
    "\n",
    "except Exception as e:\n",
    "    print(f\"An error occurred: {e}\")\n",
    "\n",
    "# Close the browser\n",
    "driver.quit()"
   ]
  },
  {
   "cell_type": "code",
   "execution_count": null,
   "metadata": {},
   "outputs": [],
   "source": []
  }
 ],
 "metadata": {
  "kernelspec": {
   "display_name": "FlightAvail",
   "language": "python",
   "name": "python3"
  },
  "language_info": {
   "codemirror_mode": {
    "name": "ipython",
    "version": 3
   },
   "file_extension": ".py",
   "mimetype": "text/x-python",
   "name": "python",
   "nbconvert_exporter": "python",
   "pygments_lexer": "ipython3",
   "version": "3.9.19"
  }
 },
 "nbformat": 4,
 "nbformat_minor": 2
}
